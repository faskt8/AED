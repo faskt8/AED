{
 "cells": [
  {
   "cell_type": "code",
   "execution_count": 29,
   "metadata": {},
   "outputs": [
    {
     "name": "stdout",
     "output_type": "stream",
     "text": [
      "   [1]Cadastrar\n",
      "    [2]Alterar\n",
      "    [3]Listar\n",
      "    [4]Estatísticas\n",
      "    [5]Sair do programa\n",
      "Escolha uma das opções!1\n",
      "Digite o nome do Aluno Fabricoi\n",
      "Em Disciplina que deseja cadastrar o Aluno? mat\n",
      "Conceito 1 Bima\n",
      "Conceito 2 Bima\n",
      "Conceito 3 Bima\n",
      "Conceito 4 Bima\n"
     ]
    },
    {
     "ename": "TypeError",
     "evalue": "list indices must be integers or slices, not dict",
     "output_type": "error",
     "traceback": [
      "\u001b[0;31m---------------------------------------------------------------------------\u001b[0m",
      "\u001b[0;31mTypeError\u001b[0m                                 Traceback (most recent call last)",
      "\u001b[0;32m<ipython-input-29-edbb8d28c9fc>\u001b[0m in \u001b[0;36m<module>\u001b[0;34m()\u001b[0m\n\u001b[1;32m     25\u001b[0m             \u001b[0;31m##Não está funcionando escrever no arquivo so dados\u001b[0m\u001b[0;34m\u001b[0m\u001b[0;34m\u001b[0m\u001b[0;34m\u001b[0m\u001b[0m\n\u001b[1;32m     26\u001b[0m             \u001b[0;32mfor\u001b[0m \u001b[0mi\u001b[0m \u001b[0;32min\u001b[0m \u001b[0mdadosAluno\u001b[0m\u001b[0;34m:\u001b[0m\u001b[0;34m\u001b[0m\u001b[0;34m\u001b[0m\u001b[0m\n\u001b[0;32m---> 27\u001b[0;31m                 \u001b[0marq\u001b[0m\u001b[0;34m.\u001b[0m\u001b[0mwrite\u001b[0m\u001b[0;34m(\u001b[0m\u001b[0mstr\u001b[0m\u001b[0;34m(\u001b[0m\u001b[0mdadosAluno\u001b[0m\u001b[0;34m[\u001b[0m\u001b[0mi\u001b[0m\u001b[0;34m]\u001b[0m\u001b[0;34m)\u001b[0m \u001b[0;34m+\u001b[0m \u001b[0;34m' '\u001b[0m\u001b[0;34m)\u001b[0m\u001b[0;34m\u001b[0m\u001b[0;34m\u001b[0m\u001b[0m\n\u001b[0m\u001b[1;32m     28\u001b[0m             \u001b[0mprint\u001b[0m\u001b[0;34m(\u001b[0m\u001b[0maluno\u001b[0m\u001b[0;34m)\u001b[0m\u001b[0;34m\u001b[0m\u001b[0;34m\u001b[0m\u001b[0m\n\u001b[1;32m     29\u001b[0m             \u001b[0mresp\u001b[0m \u001b[0;34m=\u001b[0m \u001b[0mstr\u001b[0m\u001b[0;34m(\u001b[0m\u001b[0minput\u001b[0m\u001b[0;34m(\u001b[0m\u001b[0;34m'Deseja cadastrar mais alunos ? '\u001b[0m\u001b[0;34m)\u001b[0m\u001b[0;34m)\u001b[0m\u001b[0;34m\u001b[0m\u001b[0;34m\u001b[0m\u001b[0m\n",
      "\u001b[0;31mTypeError\u001b[0m: list indices must be integers or slices, not dict"
     ]
    }
   ],
   "source": [
    "\n",
    "opcao= 0\n",
    "while opcao != 5:\n",
    "    print('''   [1]Cadastrar\n",
    "    [2]Alterar\n",
    "    [3]Listar\n",
    "    [4]Estatísticas\n",
    "    [5]Sair do programa''')\n",
    "    opcao = int(input('Escolha uma das opções!'))\n",
    "    if opcao == 1:\n",
    "        Id = 0\n",
    "        dadosAluno = []\n",
    "        aluno = {}\n",
    "        while True:\n",
    "            arq = open('cadastro.txt','a')\n",
    "           \n",
    "            aluno['Id'] = Id\n",
    "            aluno['nome'] = str(input('Digite o nome do Aluno '))\n",
    "            aluno['Disciplina'] = str(input('Em Disciplina que deseja cadastrar o Aluno? '))\n",
    "            aluno['Nota1'] = str(input('Conceito 1 Bim'))\n",
    "            aluno['Nota2'] = str(input('Conceito 2 Bim'))\n",
    "            aluno['Nota3'] = str(input('Conceito 3 Bim'))\n",
    "            aluno['Nota4'] = str(input('Conceito 4 Bim'))\n",
    "            dadosAluno.append(aluno)\n",
    "            ##Não está funcionando escrever no arquivo so dados\n",
    "            for i in dadosAluno:\n",
    "                arq.write(str(dadosAluno[i]) + ' ')\n",
    "            print(aluno)\n",
    "            resp = str(input('Deseja cadastrar mais alunos ? '))\n",
    "            if resp in 'Nn':\n",
    "                break          \n",
    "            Id += 1\n",
    "    elif opcao == 2:\n",
    "        Id = int(input('Informe o Id do Aluno '))\n",
    "        if Id < 0 :\n",
    "            print('Id não existe. Tente novamente! ')\n",
    "            \n",
    "    \n",
    "    else:\n",
    "        print('Opção inválida. Tente novamente!')\n",
    "    print('Fim do programa!')"
   ]
  },
  {
   "cell_type": "code",
   "execution_count": null,
   "metadata": {},
   "outputs": [],
   "source": []
  },
  {
   "cell_type": "markdown",
   "metadata": {},
   "source": [
    "def cadastrar():\n",
    "    while opcao != 3:\n",
    "        print('''   [1]Aluno\n",
    "        [2]Disciplina\n",
    "        [3]Voltar ao Menu principal''')\n",
    "        opcao = int(input('Escolha uma das opções!'))\n",
    "        if opcao == 1:\n",
    "            nomeAluno = str(input('Digite o nome do Aluno\\n'))\n",
    "            anoAluno = int(input('Informe o Ano do Aluno\\n'))\n",
    "            arquivo = open('alunos.txt','a')\n",
    "            arquivo.write(nomeAluno + \"\\n\")\n",
    "            arquivo.write(anoAluno + \"\\n\")\n",
    "            arquivo.close()\n",
    "        elif opcao == 2:\n",
    "\n",
    "        elif opcao == 3:\n",
    "            def menu()\n",
    "        else:\n",
    "            print('Opção inválida. Tente novamente!')\n",
    "    print('Fim do programa!')\n",
    "\n",
    "    return\n",
    "    \n",
    "    "
   ]
  },
  {
   "cell_type": "code",
   "execution_count": null,
   "metadata": {},
   "outputs": [],
   "source": []
  }
 ],
 "metadata": {
  "kernelspec": {
   "display_name": "Python 3",
   "language": "python",
   "name": "python3"
  },
  "language_info": {
   "codemirror_mode": {
    "name": "ipython",
    "version": 3
   },
   "file_extension": ".py",
   "mimetype": "text/x-python",
   "name": "python",
   "nbconvert_exporter": "python",
   "pygments_lexer": "ipython3",
   "version": "3.6.8"
  }
 },
 "nbformat": 4,
 "nbformat_minor": 2
}
